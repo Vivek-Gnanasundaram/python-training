{
 "cells": [
  {
   "cell_type": "markdown",
   "id": "5da8e80b",
   "metadata": {},
   "source": [
    "### 1. odd or even"
   ]
  },
  {
   "cell_type": "code",
   "execution_count": 1,
   "id": "e43d39e1",
   "metadata": {},
   "outputs": [
    {
     "name": "stdout",
     "output_type": "stream",
     "text": [
      "Enetr the number: 5\n",
      "odd\n"
     ]
    }
   ],
   "source": [
    "number = int(input(\"Enetr the number: \"))\n",
    "\n",
    "if number % 2 == 0:\n",
    "    print(\"even\")\n",
    "else:\n",
    "    print(\"odd\")"
   ]
  },
  {
   "cell_type": "markdown",
   "id": "52a1095d",
   "metadata": {},
   "source": [
    "### 2. leap year"
   ]
  },
  {
   "cell_type": "code",
   "execution_count": 2,
   "id": "9c38edfa",
   "metadata": {},
   "outputs": [
    {
     "name": "stdout",
     "output_type": "stream",
     "text": [
      "enter the year 2020\n",
      "leap year\n"
     ]
    }
   ],
   "source": [
    "year = int(input(\"enter the year \"))\n",
    "\n",
    "if year % 4 == 0:\n",
    "    if year % 100 == 0:\n",
    "        if year % 400 == 0:\n",
    "            print(\"leap year.\")\n",
    "        else:\n",
    "            print(\"not a leap year.\")\n",
    "    else:\n",
    "        print(\"leap year\")\n",
    "\n",
    "else:\n",
    "    print(\"not a leap year.\")"
   ]
  },
  {
   "cell_type": "markdown",
   "id": "9774143e",
   "metadata": {},
   "source": [
    "### 3. vowels or consonant"
   ]
  },
  {
   "cell_type": "code",
   "execution_count": 3,
   "id": "c0583036",
   "metadata": {},
   "outputs": [
    {
     "name": "stdout",
     "output_type": "stream",
     "text": [
      "enter a single letter: d\n",
      "consonant\n"
     ]
    }
   ],
   "source": [
    "vowel = [\"a\", \"e\", \"i\", \"o\", \"u\", \"A\", \"E\", \"I\", \"O\", \"U\"]\n",
    "\n",
    "letter = input(\"enter a single letter: \")\n",
    "\n",
    "if letter in vowel:\n",
    "    print(\"vowel\")\n",
    "else:\n",
    "    print(\"consonant\")"
   ]
  },
  {
   "cell_type": "markdown",
   "id": "6c956ae2",
   "metadata": {},
   "source": [
    "### 4. write a program to get voting eligibility"
   ]
  },
  {
   "cell_type": "code",
   "execution_count": 4,
   "id": "af8e434c",
   "metadata": {},
   "outputs": [
    {
     "name": "stdout",
     "output_type": "stream",
     "text": [
      "enter your age: 16\n",
      "not eligible\n"
     ]
    }
   ],
   "source": [
    "\n",
    "age = int(input(\"enter your age: \"))\n",
    "\n",
    "if age >= 18:\n",
    "    print(\"eligible to vote\")\n",
    "else:\n",
    "    print(\"not eligible\")"
   ]
  },
  {
   "cell_type": "markdown",
   "id": "1c6b8896",
   "metadata": {},
   "source": [
    "### 5. Find the simple interest"
   ]
  },
  {
   "cell_type": "code",
   "execution_count": 6,
   "id": "0e4cd922",
   "metadata": {},
   "outputs": [
    {
     "name": "stdout",
     "output_type": "stream",
     "text": [
      "enter the cost price of the product: 246\n",
      "enter the selling price of the product: 745\n",
      "your profit is $499\n"
     ]
    }
   ],
   "source": [
    "cp = int(input(\"enter the cost price of the product: \"))\n",
    "sp = int(input(\"enter the selling price of the product: \"))\n",
    "\n",
    "diff = sp-cp\n",
    "\n",
    "if diff > 0:\n",
    "    print(f\"your profit is ${diff}\")\n",
    "else:\n",
    "    print(f\"your loss is ${diff}\")"
   ]
  },
  {
   "cell_type": "markdown",
   "id": "b3c4a3f5",
   "metadata": {},
   "source": [
    "### 6. Multiplication table"
   ]
  },
  {
   "cell_type": "code",
   "execution_count": 1,
   "id": "5cc6e22e",
   "metadata": {},
   "outputs": [
    {
     "name": "stdout",
     "output_type": "stream",
     "text": [
      "Enter the number: 5\n",
      "limit: 10\n",
      "5 * 1 = 5\n",
      "5 * 2 = 10\n",
      "5 * 3 = 15\n",
      "5 * 4 = 20\n",
      "5 * 5 = 25\n",
      "5 * 6 = 30\n",
      "5 * 7 = 35\n",
      "5 * 8 = 40\n",
      "5 * 9 = 45\n",
      "5 * 10 = 50\n"
     ]
    }
   ],
   "source": [
    "num = int(input(\"Enter the number: \"))\n",
    "n = int(input(\"limit: \")) + 1\n",
    "for i in range(1, n):\n",
    "    print(f\"{num} * {i} = {num*i}\")"
   ]
  },
  {
   "cell_type": "markdown",
   "id": "a67df124",
   "metadata": {},
   "source": [
    "### 7. Check whether a triangle is equilateral, isosceles or scalene"
   ]
  },
  {
   "cell_type": "code",
   "execution_count": 6,
   "id": "8a0757ca",
   "metadata": {},
   "outputs": [
    {
     "name": "stdout",
     "output_type": "stream",
     "text": [
      "Enter the side of a triangle 'a': 45\n",
      "Enter the side of a triangle 'b': 45\n",
      "Enter the side of a triangle 'c': 69\n",
      "Isosceles triangle\n"
     ]
    }
   ],
   "source": [
    "a = int(input(\"Enter the side of a triangle 'a': \"))\n",
    "b = int(input(\"Enter the side of a triangle 'b': \"))\n",
    "c = int(input(\"Enter the side of a triangle 'c': \"))\n",
    "\n",
    "if a == b and b == c:\n",
    "    print(\"Equilateral triangle\")\n",
    "elif a == b or b == c or c == a:\n",
    "    print(\"Isosceles triangle\")\n",
    "else:\n",
    "    print(\"Scalene triangle\")"
   ]
  },
  {
   "cell_type": "markdown",
   "id": "7fb631a5",
   "metadata": {},
   "source": [
    "### 8. whether the number is positive, negative or zero"
   ]
  },
  {
   "cell_type": "code",
   "execution_count": 12,
   "id": "2c0c52e1",
   "metadata": {},
   "outputs": [
    {
     "name": "stdout",
     "output_type": "stream",
     "text": [
      "Enter a number: 45\n",
      "Positive\n"
     ]
    }
   ],
   "source": [
    "num = int(input(\"Enter a number: \"))\n",
    "if num < 0:\n",
    "    print(\"Negative\")\n",
    "elif num == 0:\n",
    "    print(\"Zero\")\n",
    "else:\n",
    "    print(\"Positive\")"
   ]
  },
  {
   "cell_type": "markdown",
   "id": "354666fb",
   "metadata": {},
   "source": [
    "### 9. print the greatest number within the given two number"
   ]
  },
  {
   "cell_type": "code",
   "execution_count": 15,
   "id": "14723731",
   "metadata": {},
   "outputs": [
    {
     "name": "stdout",
     "output_type": "stream",
     "text": [
      "enter the number: 85\n",
      "enter the number: 96\n",
      "96\n"
     ]
    }
   ],
   "source": [
    "num1 = int(input(\"enter the number: \"))\n",
    "num2 = int(input(\"enter the number: \"))\n",
    "\n",
    "numbers = [num1,num2]\n",
    "\n",
    "Greatest_number = max(numbers)\n",
    "print(Greatest_number)"
   ]
  },
  {
   "cell_type": "markdown",
   "id": "43fbb05d",
   "metadata": {},
   "source": [
    "### 10. print the smallest number within the given two number"
   ]
  },
  {
   "cell_type": "code",
   "execution_count": 16,
   "id": "0f75e6b0",
   "metadata": {},
   "outputs": [
    {
     "name": "stdout",
     "output_type": "stream",
     "text": [
      "enter the number: 54\n",
      "enter the number: 45\n",
      "45\n"
     ]
    }
   ],
   "source": [
    "num1 = int(input(\"enter the number: \"))\n",
    "num2 = int(input(\"enter the number: \"))\n",
    "\n",
    "numbers = [num1,num2]\n",
    "\n",
    "Smallest_number = min(numbers)\n",
    "print(Smallest_number)"
   ]
  },
  {
   "cell_type": "markdown",
   "id": "7da84112",
   "metadata": {},
   "source": [
    "### 11. print the greatest number within the given three number"
   ]
  },
  {
   "cell_type": "code",
   "execution_count": 18,
   "id": "61ca5270",
   "metadata": {},
   "outputs": [
    {
     "name": "stdout",
     "output_type": "stream",
     "text": [
      "enter the number: 95\n",
      "enter the number: 74\n",
      "enter the number: 52\n",
      "95\n"
     ]
    }
   ],
   "source": [
    "num1 = int(input(\"enter the number: \"))\n",
    "num2 = int(input(\"enter the number: \"))\n",
    "num3 = int(input(\"enter the number: \"))\n",
    "\n",
    "numbers = [num1,num2,num3]\n",
    "\n",
    "Greatest_number = max(numbers)\n",
    "print(Greatest_number)"
   ]
  },
  {
   "cell_type": "markdown",
   "id": "df6827f8",
   "metadata": {},
   "source": [
    "### 12. print the smallest number within the given three number"
   ]
  },
  {
   "cell_type": "code",
   "execution_count": 19,
   "id": "a2de996d",
   "metadata": {},
   "outputs": [
    {
     "name": "stdout",
     "output_type": "stream",
     "text": [
      "enter the number: 85\n",
      "enter the number: 45\n",
      "enter the number: 64\n",
      "45\n"
     ]
    }
   ],
   "source": [
    "num1 = int(input(\"enter the number: \"))\n",
    "num2 = int(input(\"enter the number: \"))\n",
    "num3 = int(input(\"enter the number: \"))\n",
    "\n",
    "numbers = [num1,num2,num3]\n",
    "\n",
    "Smallest_number = min(numbers)\n",
    "print(Smallest_number)"
   ]
  },
  {
   "cell_type": "markdown",
   "id": "7c91884e",
   "metadata": {},
   "source": [
    "### 13. print the respective month using (1-12) numbers"
   ]
  },
  {
   "cell_type": "code",
   "execution_count": 20,
   "id": "5ed7b98e",
   "metadata": {},
   "outputs": [
    {
     "name": "stdout",
     "output_type": "stream",
     "text": [
      "Which month do you want to print: 5\n",
      "May\n"
     ]
    }
   ],
   "source": [
    "month = [\"January\", \"February\", \"March\", \"April\", \"May\", \"June\", \"July\", \"August\", \"September\", \"October\", \"November\", \"December\"]\n",
    "\n",
    "select_month = int(input(\"Which month do you want to print: \"))\n",
    "\n",
    "num = select_month - 1\n",
    "print(month[num])\n"
   ]
  },
  {
   "cell_type": "markdown",
   "id": "cdcd3df7",
   "metadata": {},
   "source": [
    "### 14. check whether the given shape is square or rectangle"
   ]
  },
  {
   "cell_type": "code",
   "execution_count": 22,
   "id": "0ba2e809",
   "metadata": {},
   "outputs": [
    {
     "name": "stdout",
     "output_type": "stream",
     "text": [
      "Enter the length: 4\n",
      "Enetr the breadth: 8\n",
      "it is a rectangle\n"
     ]
    }
   ],
   "source": [
    "length = int(input(\"Enter the length: \"))\n",
    "breadth = int(input(\"Enetr the breadth: \"))\n",
    "\n",
    "if length == breadth:\n",
    "    print(\"it is a Square\")\n",
    "else:\n",
    "    print(\"it is a rectangle\")"
   ]
  },
  {
   "cell_type": "markdown",
   "id": "6682ed4c",
   "metadata": {},
   "source": [
    "### 15. Grading of marks"
   ]
  },
  {
   "cell_type": "code",
   "execution_count": null,
   "id": "c160d8e3",
   "metadata": {},
   "outputs": [],
   "source": [
    "mark = int(input(\"Enter your mark: \"))\n",
    "\n",
    "if mark >= 80 and mark <= 100:\n",
    "    print(\"You have an 'A' Grade\")\n",
    "elif mark >= 60 and mark < 80:\n",
    "    print(\" B grade\")\n",
    "elif mark >= 50 and mark < 60:\n",
    "    print(\" c grade\")\n",
    "elif mark >= 45 and mark < 50:\n",
    "    print(\" D grade\")\n",
    "elif mark >= 25 and mark < 45:\n",
    "    print(\"E grade\")\n",
    "elif mark < 25 and mark >= 0:\n",
    "    print(\"Fail\")\n",
    "else:\n",
    "    print(\"enter a proper mark\")"
   ]
  },
  {
   "cell_type": "markdown",
   "id": "807c39e5",
   "metadata": {},
   "source": [
    "### 16. write a program to print odd numbers betweeen 1 to 100"
   ]
  },
  {
   "cell_type": "code",
   "execution_count": 1,
   "id": "23475885",
   "metadata": {},
   "outputs": [
    {
     "name": "stdout",
     "output_type": "stream",
     "text": [
      "1\n",
      "3\n",
      "5\n",
      "7\n",
      "9\n",
      "11\n",
      "13\n",
      "15\n",
      "17\n",
      "19\n",
      "21\n",
      "23\n",
      "25\n",
      "27\n",
      "29\n",
      "31\n",
      "33\n",
      "35\n",
      "37\n",
      "39\n",
      "41\n",
      "43\n",
      "45\n",
      "47\n",
      "49\n",
      "51\n",
      "53\n",
      "55\n",
      "57\n",
      "59\n",
      "61\n",
      "63\n",
      "65\n",
      "67\n",
      "69\n",
      "71\n",
      "73\n",
      "75\n",
      "77\n",
      "79\n",
      "81\n",
      "83\n",
      "85\n",
      "87\n",
      "89\n",
      "91\n",
      "93\n",
      "95\n",
      "97\n",
      "99\n"
     ]
    }
   ],
   "source": [
    "for numbers in range(1, 100,2):\n",
    "    print(numbers)\n",
    "    "
   ]
  },
  {
   "cell_type": "markdown",
   "id": "2b06e282",
   "metadata": {},
   "source": [
    "### 17. write a program to print even numbers betweeen 1 to 100"
   ]
  },
  {
   "cell_type": "code",
   "execution_count": 3,
   "id": "7691027f",
   "metadata": {},
   "outputs": [
    {
     "name": "stdout",
     "output_type": "stream",
     "text": [
      "2\n",
      "4\n",
      "6\n",
      "8\n",
      "10\n",
      "12\n",
      "14\n",
      "16\n",
      "18\n",
      "20\n",
      "22\n",
      "24\n",
      "26\n",
      "28\n",
      "30\n",
      "32\n",
      "34\n",
      "36\n",
      "38\n",
      "40\n",
      "42\n",
      "44\n",
      "46\n",
      "48\n",
      "50\n",
      "52\n",
      "54\n",
      "56\n",
      "58\n",
      "60\n",
      "62\n",
      "64\n",
      "66\n",
      "68\n",
      "70\n",
      "72\n",
      "74\n",
      "76\n",
      "78\n",
      "80\n",
      "82\n",
      "84\n",
      "86\n",
      "88\n",
      "90\n",
      "92\n",
      "94\n",
      "96\n",
      "98\n",
      "100\n"
     ]
    }
   ],
   "source": [
    "for numbers in range(2,101,2):\n",
    "    print(numbers)"
   ]
  },
  {
   "cell_type": "markdown",
   "id": "4be27935",
   "metadata": {},
   "source": [
    "### 18. write a program to enter a number between (1 to 7) and print the respective day of the week"
   ]
  },
  {
   "cell_type": "code",
   "execution_count": 2,
   "id": "216342be",
   "metadata": {},
   "outputs": [
    {
     "name": "stdout",
     "output_type": "stream",
     "text": [
      "Enter a number between 1 to 7:  5\n",
      "Friday\n"
     ]
    }
   ],
   "source": [
    "days = [\"Monday\", \"Tuesday\", \"Wednesday\", \"Thursday\", \"Friday\", \"Saturday\", \"Sunday\"]\n",
    "\n",
    "num = int(input(\"Enter a number between 1 to 7:  \")) - 1\n",
    "\n",
    "print(days[num])\n",
    "\n"
   ]
  }
 ],
 "metadata": {
  "kernelspec": {
   "display_name": "Python 3 (ipykernel)",
   "language": "python",
   "name": "python3"
  },
  "language_info": {
   "codemirror_mode": {
    "name": "ipython",
    "version": 3
   },
   "file_extension": ".py",
   "mimetype": "text/x-python",
   "name": "python",
   "nbconvert_exporter": "python",
   "pygments_lexer": "ipython3",
   "version": "3.9.13"
  }
 },
 "nbformat": 4,
 "nbformat_minor": 5
}
