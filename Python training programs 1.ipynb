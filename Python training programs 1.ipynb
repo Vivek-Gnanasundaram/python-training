{
 "cells": [
  {
   "cell_type": "markdown",
   "id": "a0605046",
   "metadata": {},
   "source": [
    "#### 1. write a program to perform following operations:\n",
    "1) addition, 2) subtraction, 2) Multiplication, 3) Division, 4) Modulus, 5) Exponent"
   ]
  },
  {
   "cell_type": "code",
   "execution_count": 2,
   "id": "3f33ada8",
   "metadata": {},
   "outputs": [
    {
     "name": "stdout",
     "output_type": "stream",
     "text": [
      "enter a:10\n",
      "enter b: 5\n",
      "\n",
      "addition = 15\n",
      "subtraction = 5\n",
      "multiplication = 50\n",
      "division = 2\n",
      "Modulus = 0\n",
      "Exponent = 100000\n"
     ]
    }
   ],
   "source": [
    "a = int(input(\"enter a:\"))\n",
    "b = int(input(\"enter b: \"))\n",
    "\n",
    "addition =  a + b\n",
    "subtraction = a - b\n",
    "multiplication = a * b\n",
    "division = a // b\n",
    "modulus = a % b\n",
    "Exponent = a ** b\n",
    "\n",
    "print(f\"\\naddition = {addition}\")\n",
    "print(f\"subtraction = {subtraction}\")\n",
    "print(f\"multiplication = {multiplication}\")\n",
    "print(f\"division = {division}\")\n",
    "print(f\"Modulus = {modulus}\")\n",
    "print(f\"Exponent = {Exponent}\")"
   ]
  },
  {
   "cell_type": "markdown",
   "id": "120040a6",
   "metadata": {},
   "source": [
    "### 2. write a program to swap two numbers"
   ]
  },
  {
   "cell_type": "code",
   "execution_count": 5,
   "id": "c57f2537",
   "metadata": {},
   "outputs": [
    {
     "name": "stdout",
     "output_type": "stream",
     "text": [
      "enter a number for x: 5\n",
      "enter a number for y: 4\n",
      "\n",
      "the value of x is 4 \n",
      "the value of y is 5\n"
     ]
    }
   ],
   "source": [
    "x = int(input(\"enter a number for x: \"))\n",
    "y = int(input(\"enter a number for y: \"))\n",
    "\n",
    "z = x\n",
    "x = y\n",
    "y = z\n",
    "\n",
    "print(f\"\\nthe value of x is {x} \\nthe value of y is {y}\")\n"
   ]
  },
  {
   "cell_type": "markdown",
   "id": "9be2dc4e",
   "metadata": {},
   "source": [
    "### 3. write a program to swap two numbers without using a third variable"
   ]
  },
  {
   "cell_type": "code",
   "execution_count": 8,
   "id": "19734017",
   "metadata": {},
   "outputs": [
    {
     "name": "stdout",
     "output_type": "stream",
     "text": [
      "enter a number for x: 5\n",
      "enter a number for y: 4\n",
      "\n",
      "the value of x is 4 \n",
      "the value of y is 5\n"
     ]
    }
   ],
   "source": [
    "x = int(input(\"enter a number for x: \"))\n",
    "y = int(input(\"enter a number for y: \"))\n",
    "\n",
    "x = x+y\n",
    "y = x-y\n",
    "x = x-y\n",
    "\n",
    "print(f\"\\nthe value of x is {x} \\nthe value of y is {y}\")"
   ]
  },
  {
   "cell_type": "markdown",
   "id": "73cf564c",
   "metadata": {},
   "source": [
    "### 4. write a program to find average for numbers by user input"
   ]
  },
  {
   "cell_type": "code",
   "execution_count": 20,
   "id": "380ba405",
   "metadata": {},
   "outputs": [
    {
     "name": "stdout",
     "output_type": "stream",
     "text": [
      "enter the numbers split by a comma\n",
      "25, 89, 63, 45, 78, 45\n",
      "58\n"
     ]
    }
   ],
   "source": [
    "num = input(\"enter the numbers split by a comma\\n\").split(\",\")\n",
    "for n in range(0, int(len(num))):\n",
    "    num[n] = int(num[n])\n",
    "\n",
    "total = sum(num)\n",
    "obsr = int(len(num))\n",
    "\n",
    "average = round(total/obsr)\n",
    "print(average)"
   ]
  },
  {
   "cell_type": "markdown",
   "id": "01016d69",
   "metadata": {},
   "source": [
    "### 5. write a program to comput simple ineterest"
   ]
  },
  {
   "cell_type": "code",
   "execution_count": 2,
   "id": "cad9e4a3",
   "metadata": {},
   "outputs": [
    {
     "name": "stdout",
     "output_type": "stream",
     "text": [
      "enetr the principle amount: 10000\n",
      "enetr the number of years: 5\n",
      "enetr the rate of interest: 8\n",
      "4000.0\n"
     ]
    }
   ],
   "source": [
    "P = int(input(\"enetr the principle amount: \"))\n",
    "N = int(input(\"enetr the number of years: \"))\n",
    "R = int(input(\"enetr the rate of interest: \"))\n",
    "\n",
    "simple_interest = (P * N * R) / 100\n",
    "\n",
    "print(simple_interest)"
   ]
  },
  {
   "cell_type": "markdown",
   "id": "0614403c",
   "metadata": {},
   "source": [
    "### 6. write a program to calculate the areas of following shape:"
   ]
  },
  {
   "cell_type": "code",
   "execution_count": 3,
   "id": "f628d19c",
   "metadata": {},
   "outputs": [
    {
     "name": "stdout",
     "output_type": "stream",
     "text": [
      "enter the length and breath of the rectangle: 4, 6\n",
      "\n",
      "Area of rectangle is 24\n",
      "\n",
      "enter the length of a side of a square: 5\n",
      "\n",
      "Area of square is 25\n",
      "\n",
      "enter the base and height of the triangle: 3, 6\n",
      "\n",
      "Area of triangle is 9.0\n",
      "\n",
      "enter the radius of a circle: 8\n",
      "\n",
      "Area of the circle is 201.14285714285714\n",
      "\n"
     ]
    }
   ],
   "source": [
    "rectangle = input(\"enter the length and breath of the rectangle: \").split(\",\")\n",
    "print(f\"\\nArea of rectangle is {int(rectangle[0]) * int(rectangle[1])}\\n\")\n",
    "\n",
    "square = int(input(\"enter the length of a side of a square: \"))\n",
    "print(f\"\\nArea of square is {square ** 2}\\n\")\n",
    "\n",
    "triangle = input(\"enter the base and height of the triangle: \").split(\",\")\n",
    "base = int(triangle[0])\n",
    "height = int(triangle[1])\n",
    "print(f\"\\nArea of triangle is {(1/2) * base * height}\\n\")\n",
    "\n",
    "circle_radius = int(input(\"enter the radius of a circle: \"))\n",
    "area = (22/7) * (circle_radius ** 2)\n",
    "print(f\"\\nArea of the circle is {area}\\n\")\n",
    "\n",
    "\n",
    "\n"
   ]
  },
  {
   "cell_type": "markdown",
   "id": "a503ec56",
   "metadata": {},
   "source": [
    "### 7. write a program to calculate power of a number"
   ]
  },
  {
   "cell_type": "code",
   "execution_count": 3,
   "id": "d8d4a4c2",
   "metadata": {},
   "outputs": [
    {
     "name": "stdout",
     "output_type": "stream",
     "text": [
      "Enter any positive number: 8\n",
      "Enter a power value: 6\n",
      "262144\n"
     ]
    }
   ],
   "source": [
    "number = int(input(\"Enter any positive number: \"))\n",
    "power = int(input(\"Enter a power value: \"))\n",
    "\n",
    "power_number = 1\n",
    "\n",
    "for n in range(1, power + 1):\n",
    "    power_number *= number\n",
    "print(power_number)\n"
   ]
  },
  {
   "cell_type": "markdown",
   "id": "a743face",
   "metadata": {},
   "source": [
    "### 8. find whether the given number is palindrome or not"
   ]
  },
  {
   "cell_type": "code",
   "execution_count": 4,
   "id": "f48c643b",
   "metadata": {},
   "outputs": [
    {
     "name": "stdout",
     "output_type": "stream",
     "text": [
      "Enter a number: 1221\n",
      "\n",
      "It is not a palindrome\n"
     ]
    }
   ],
   "source": [
    "number = int(input(\"Enter a number: \"))\n",
    "\n",
    "rev_num = str(number)\n",
    "rev_num[::-1]\n",
    "\n",
    "if number == rev_num:\n",
    "    print(\"\\nIt is a palidrome\")\n",
    "else:\n",
    "    print(\"\\nIt is not a palindrome\")"
   ]
  },
  {
   "cell_type": "markdown",
   "id": "2b61e39e",
   "metadata": {},
   "source": [
    "### 9. write the program to calculate factorial of the number"
   ]
  },
  {
   "cell_type": "code",
   "execution_count": 7,
   "id": "ae124869",
   "metadata": {},
   "outputs": [
    {
     "name": "stdout",
     "output_type": "stream",
     "text": [
      "welcome to the factorial calulator! \n",
      "\n",
      "Enter the number: 5\n",
      "120\n"
     ]
    }
   ],
   "source": [
    "print(\"welcome to the factorial calulator! \\n\")\n",
    "num = int(input(\"Enter the number: \"))\n",
    "\n",
    "factorial = 1\n",
    "\n",
    "for n in range(num, 0, -1):\n",
    "    factorial *= n\n",
    "print(factorial)"
   ]
  },
  {
   "cell_type": "markdown",
   "id": "bc098c1b",
   "metadata": {},
   "source": [
    "### 10. write a programe to calculate the sum of first 10 numbers"
   ]
  },
  {
   "cell_type": "code",
   "execution_count": 12,
   "id": "68072e22",
   "metadata": {},
   "outputs": [
    {
     "name": "stdout",
     "output_type": "stream",
     "text": [
      "55\n"
     ]
    }
   ],
   "source": [
    "number = 0\n",
    "for n in range(1, 11):\n",
    "    number += n\n",
    "print(number)"
   ]
  },
  {
   "cell_type": "markdown",
   "id": "e9db7222",
   "metadata": {},
   "source": [
    "### 11. write a program to print n numbers entered by the user"
   ]
  },
  {
   "cell_type": "code",
   "execution_count": 11,
   "id": "8a8d3a13",
   "metadata": {},
   "outputs": [
    {
     "name": "stdout",
     "output_type": "stream",
     "text": [
      "Enter a number: 5\n",
      "1\n",
      "2\n",
      "3\n",
      "4\n",
      "5\n"
     ]
    }
   ],
   "source": [
    "n = int(input(\"Enter a number: \"))\n",
    "\n",
    "for i in range(1, n+1):\n",
    "    print(i)"
   ]
  },
  {
   "cell_type": "markdown",
   "id": "a2dd8086",
   "metadata": {},
   "source": [
    "### 12. write a program to calculate sum of n numbers"
   ]
  },
  {
   "cell_type": "code",
   "execution_count": 9,
   "id": "cef1994b",
   "metadata": {},
   "outputs": [
    {
     "name": "stdout",
     "output_type": "stream",
     "text": [
      "Enter a number: 100\n",
      "5050\n"
     ]
    }
   ],
   "source": [
    "n = int(input(\"Enter a number: \"))\n",
    "total = 0\n",
    "for i in range(1, n+1):\n",
    "    total += i\n",
    "print(total)"
   ]
  },
  {
   "cell_type": "markdown",
   "id": "9092189d",
   "metadata": {},
   "source": [
    "### 13. A company decided to give bonus of 5% to employee if his/her year of service is more than 5 years. Ask user for their salary and year of service and print the net bonus amount"
   ]
  },
  {
   "cell_type": "code",
   "execution_count": 14,
   "id": "f7a2404c",
   "metadata": {},
   "outputs": [
    {
     "name": "stdout",
     "output_type": "stream",
     "text": [
      "Enter your salary: 50000\n",
      "Enter Your year of service: 6\n",
      "you have got a bonus of Rs.2500\n"
     ]
    }
   ],
   "source": [
    "salary = int(input(\"Enter your salary: \"))\n",
    "year_of_service = int(input(\"Enter Your year of service: \"))\n",
    "\n",
    "bonus = round(salary * (5 / 100))\n",
    "\n",
    "if year_of_service > 5:\n",
    "    print(f\"you have got a bonus of Rs.{bonus}\")\n",
    "else:\n",
    "    print(\"Sorry, no bonus is available for you\")"
   ]
  },
  {
   "cell_type": "markdown",
   "id": "5f34d016",
   "metadata": {},
   "source": [
    "### 14. Take input of age of 3 people by user and fetermine oldest and youngest among them"
   ]
  },
  {
   "cell_type": "code",
   "execution_count": 6,
   "id": "47f117b2",
   "metadata": {},
   "outputs": [
    {
     "name": "stdout",
     "output_type": "stream",
     "text": [
      "enter the age of Person 1: 16\n",
      "enter the age of Person 2: 15\n",
      "enter the age of Person 3: 26\n",
      "person3 is the oldest\n",
      "person2 is the youngest\n"
     ]
    }
   ],
   "source": [
    "person1 = int(input(\"enter the age of Person 1: \"))\n",
    "person2 = int(input(\"enter the age of Person 2: \"))\n",
    "person3 = int(input(\"enter the age of Person 3: \"))\n",
    "\n",
    "if person1 > (person2 and person3):\n",
    "    print(\"person1 is the oldest\")\n",
    "\n",
    "elif person2 > (person2 and person3):\n",
    "    print(\"person2 is the oldest\")\n",
    "    \n",
    "elif person3 > (person1 and person2):\n",
    "    print(\"person3 is the oldest\")\n",
    "\n",
    "if person3 < (person2 and person3):\n",
    "    print(\"person3 is the youngest\")\n",
    "\n",
    "elif person2 < (person1 and person3):\n",
    "    print(\"person2 is the youngest\")\n",
    "    \n",
    "elif person1 < person2 and person3:\n",
    "    print(\"person1 is the youngest\")"
   ]
  },
  {
   "cell_type": "markdown",
   "id": "6e497d51",
   "metadata": {},
   "source": [
    "### 15. write a program to enter a number from (1 to 4) and perform the following operation\n",
    "1. Addition\n",
    "2. Subtraction\n",
    "3. Multiplication\n",
    "4. Division"
   ]
  },
  {
   "cell_type": "code",
   "execution_count": 1,
   "id": "a14459ad",
   "metadata": {},
   "outputs": [
    {
     "name": "stdout",
     "output_type": "stream",
     "text": [
      "enter 1 for addition\n",
      " 2 for subtraction\n",
      " 3 for mulitiplication\n",
      " 4 for division\n",
      "enter a number between 1 to 4:  2\n",
      "enter a:12\n",
      "enter b: 6\n",
      "subtraction = 6\n"
     ]
    }
   ],
   "source": [
    "def addition():\n",
    "    a = int(input(\"enter a:\"))\n",
    "    b = int(input(\"enter b: \"))\n",
    "    addition =  a + b\n",
    "    print(f\"\\naddition = {addition}\")\n",
    "\n",
    "def subtraction():\n",
    "    a = int(input(\"enter a:\"))\n",
    "    b = int(input(\"enter b: \"))\n",
    "    subtraction = a - b\n",
    "    print(f\"subtraction = {subtraction}\")\n",
    "\n",
    "def multiplication():\n",
    "    a = int(input(\"enter a:\"))\n",
    "    b = int(input(\"enter b: \"))\n",
    "    multiplication = a * b\n",
    "    print(f\"multiplication = {multiplication}\")\n",
    "    \n",
    "def division():\n",
    "    a = int(input(\"enter a:\"))\n",
    "    b = int(input(\"enter b: \"))\n",
    "    division = a // b\n",
    "    print(f\"division = {division}\")\n",
    "\n",
    "print(\"enter 1 for addition\\n 2 for subtraction\\n 3 for mulitiplication\\n 4 for division\")\n",
    "function = int(input(\"enter a number between 1 to 4:  \"))\n",
    "\n",
    "if function == 1:\n",
    "    addition()\n",
    "if function == 2:\n",
    "    subtraction()\n",
    "if function == 3:\n",
    "    multiplication()\n",
    "if function == 4:\n",
    "    division()\n",
    "\n",
    "\n",
    "\n"
   ]
  },
  {
   "cell_type": "code",
   "execution_count": null,
   "id": "6aa73732",
   "metadata": {},
   "outputs": [],
   "source": []
  }
 ],
 "metadata": {
  "kernelspec": {
   "display_name": "Python 3 (ipykernel)",
   "language": "python",
   "name": "python3"
  },
  "language_info": {
   "codemirror_mode": {
    "name": "ipython",
    "version": 3
   },
   "file_extension": ".py",
   "mimetype": "text/x-python",
   "name": "python",
   "nbconvert_exporter": "python",
   "pygments_lexer": "ipython3",
   "version": "3.9.13"
  }
 },
 "nbformat": 4,
 "nbformat_minor": 5
}
