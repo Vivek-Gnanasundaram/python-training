{
 "cells": [
  {
   "cell_type": "markdown",
   "id": "67e682ff",
   "metadata": {},
   "source": [
    "#### 1. Write a program to print hello python ten times"
   ]
  },
  {
   "cell_type": "code",
   "execution_count": 1,
   "id": "13d1f6a5",
   "metadata": {},
   "outputs": [
    {
     "name": "stdout",
     "output_type": "stream",
     "text": [
      "Hello python\n",
      "Hello python\n",
      "Hello python\n",
      "Hello python\n",
      "Hello python\n",
      "Hello python\n",
      "Hello python\n",
      "Hello python\n",
      "Hello python\n",
      "Hello python\n"
     ]
    }
   ],
   "source": [
    "for i in range(10):\n",
    "    print(\"Hello python\")"
   ]
  },
  {
   "cell_type": "markdown",
   "id": "1285f474",
   "metadata": {},
   "source": [
    "#### 2. Write a program to print number from 1 - 10."
   ]
  },
  {
   "cell_type": "code",
   "execution_count": 2,
   "id": "e2135578",
   "metadata": {},
   "outputs": [
    {
     "name": "stdout",
     "output_type": "stream",
     "text": [
      "1\n",
      "2\n",
      "3\n",
      "4\n",
      "5\n",
      "6\n",
      "7\n",
      "8\n",
      "9\n",
      "10\n"
     ]
    }
   ],
   "source": [
    "for num in range(1, 11):\n",
    "    print(num)"
   ]
  },
  {
   "cell_type": "markdown",
   "id": "7dcafea8",
   "metadata": {},
   "source": [
    "#### 3. Write a program to print the sum of first 10 numbers."
   ]
  },
  {
   "cell_type": "code",
   "execution_count": 4,
   "id": "e8a3b581",
   "metadata": {},
   "outputs": [
    {
     "name": "stdout",
     "output_type": "stream",
     "text": [
      "The addition of firt ten numbers is 55\n"
     ]
    }
   ],
   "source": [
    "addition = 0\n",
    "for num in range(1, 11):\n",
    "    addition += num\n",
    "print(f\"The addition of firt ten numbers is {addition}\")"
   ]
  },
  {
   "cell_type": "markdown",
   "id": "e77207ae",
   "metadata": {},
   "source": [
    "#### 4. Write a program to print n numbers entered by the user"
   ]
  },
  {
   "cell_type": "code",
   "execution_count": 8,
   "id": "b0c171a7",
   "metadata": {},
   "outputs": [
    {
     "name": "stdout",
     "output_type": "stream",
     "text": [
      "Enter a number: 10\n",
      "1\n",
      "2\n",
      "3\n",
      "4\n",
      "5\n",
      "6\n",
      "7\n",
      "8\n",
      "9\n",
      "10\n"
     ]
    }
   ],
   "source": [
    "n = int(input(\"Enter a number: \"))\n",
    "for num in range(1, n+1):\n",
    "    print(num)"
   ]
  },
  {
   "cell_type": "markdown",
   "id": "d1c64813",
   "metadata": {},
   "source": [
    "#### 5. Write a program to print sum of n numbers"
   ]
  },
  {
   "cell_type": "code",
   "execution_count": 9,
   "id": "c97bcc91",
   "metadata": {},
   "outputs": [
    {
     "name": "stdout",
     "output_type": "stream",
     "text": [
      "Enter a number: 5\n",
      "15\n"
     ]
    }
   ],
   "source": [
    "n = int(input(\"Enter a number: \"))\n",
    "addition = 0\n",
    "\n",
    "for num in range(1, n+1):\n",
    "    addition += num\n",
    "print(addition)"
   ]
  },
  {
   "cell_type": "markdown",
   "id": "0f95230c",
   "metadata": {},
   "source": [
    "#### 6. Write a program to print table of a number"
   ]
  },
  {
   "cell_type": "code",
   "execution_count": 13,
   "id": "dd2e33f8",
   "metadata": {},
   "outputs": [
    {
     "name": "stdout",
     "output_type": "stream",
     "text": [
      "Enter the number: 5\n",
      "times: 10\n",
      "\n",
      "5 * 1 = 5\n",
      "\n",
      "5 * 2 = 10\n",
      "\n",
      "5 * 3 = 15\n",
      "\n",
      "5 * 4 = 20\n",
      "\n",
      "5 * 5 = 25\n",
      "\n",
      "5 * 6 = 30\n",
      "\n",
      "5 * 7 = 35\n",
      "\n",
      "5 * 8 = 40\n",
      "\n",
      "5 * 9 = 45\n",
      "\n",
      "5 * 10 = 50\n"
     ]
    }
   ],
   "source": [
    "num = int(input(\"Enter the number: \"))\n",
    "n = int(input(\"times: \")) + 1\n",
    "for i in range(1, n):\n",
    "    print(f\"\\n{num} * {i} = {num*i}\")"
   ]
  },
  {
   "cell_type": "markdown",
   "id": "8a40af23",
   "metadata": {},
   "source": [
    "#### 7. Write a program to calculate the factorial of a number"
   ]
  },
  {
   "cell_type": "code",
   "execution_count": 16,
   "id": "d8e5e36d",
   "metadata": {},
   "outputs": [
    {
     "name": "stdout",
     "output_type": "stream",
     "text": [
      "Enter a number: 5\n",
      "\n",
      "The factorial of 5 is 120\n"
     ]
    }
   ],
   "source": [
    "n = int(input(\"Enter a number: \"))\n",
    "factorial = 1\n",
    "for fact in range(1, n+1):\n",
    "    factorial *= fact\n",
    "print(f\"\\nThe factorial of {num} is {factorial}\")"
   ]
  },
  {
   "cell_type": "markdown",
   "id": "5babf30f",
   "metadata": {},
   "source": [
    "#### 8. Write a program to print even numbers between 1 to 100"
   ]
  },
  {
   "cell_type": "code",
   "execution_count": 17,
   "id": "a67873de",
   "metadata": {},
   "outputs": [
    {
     "name": "stdout",
     "output_type": "stream",
     "text": [
      "2\n",
      "4\n",
      "6\n",
      "8\n",
      "10\n",
      "12\n",
      "14\n",
      "16\n",
      "18\n",
      "20\n",
      "22\n",
      "24\n",
      "26\n",
      "28\n",
      "30\n",
      "32\n",
      "34\n",
      "36\n",
      "38\n",
      "40\n",
      "42\n",
      "44\n",
      "46\n",
      "48\n",
      "50\n",
      "52\n",
      "54\n",
      "56\n",
      "58\n",
      "60\n",
      "62\n",
      "64\n",
      "66\n",
      "68\n",
      "70\n",
      "72\n",
      "74\n",
      "76\n",
      "78\n",
      "80\n",
      "82\n",
      "84\n",
      "86\n",
      "88\n",
      "90\n",
      "92\n",
      "94\n",
      "96\n",
      "98\n",
      "100\n"
     ]
    }
   ],
   "source": [
    "for num in range(1,101):\n",
    "    if num % 2 == 0:\n",
    "        print(num)"
   ]
  },
  {
   "cell_type": "markdown",
   "id": "65c8f4ef",
   "metadata": {},
   "source": [
    "#### 9. Write a program to print odd numbers between 1 to 100"
   ]
  },
  {
   "cell_type": "code",
   "execution_count": 18,
   "id": "971e4225",
   "metadata": {},
   "outputs": [
    {
     "name": "stdout",
     "output_type": "stream",
     "text": [
      "1\n",
      "3\n",
      "5\n",
      "7\n",
      "9\n",
      "11\n",
      "13\n",
      "15\n",
      "17\n",
      "19\n",
      "21\n",
      "23\n",
      "25\n",
      "27\n",
      "29\n",
      "31\n",
      "33\n",
      "35\n",
      "37\n",
      "39\n",
      "41\n",
      "43\n",
      "45\n",
      "47\n",
      "49\n",
      "51\n",
      "53\n",
      "55\n",
      "57\n",
      "59\n",
      "61\n",
      "63\n",
      "65\n",
      "67\n",
      "69\n",
      "71\n",
      "73\n",
      "75\n",
      "77\n",
      "79\n",
      "81\n",
      "83\n",
      "85\n",
      "87\n",
      "89\n",
      "91\n",
      "93\n",
      "95\n",
      "97\n",
      "99\n"
     ]
    }
   ],
   "source": [
    "for num in range(1,101):\n",
    "    if num % 2 != 0:\n",
    "        print(num)"
   ]
  },
  {
   "cell_type": "markdown",
   "id": "bc9d38fd",
   "metadata": {},
   "source": [
    "#### 10. Write a program to check whether a given number is palindrome or not"
   ]
  },
  {
   "cell_type": "code",
   "execution_count": 23,
   "id": "e889bdb3",
   "metadata": {},
   "outputs": [
    {
     "name": "stdout",
     "output_type": "stream",
     "text": [
      "Enter a number: 1221\n",
      "reverse number: 1221\n",
      "\n",
      "It is a palidrome\n"
     ]
    }
   ],
   "source": [
    "number = int(input(\"Enter a number: \"))\n",
    "\n",
    "rev_num = str(number)\n",
    "rev_num[::-1]\n",
    "result = int(rev_num)\n",
    "\n",
    "print(f\"reverse number: {result}\")\n",
    "\n",
    "if number == result:\n",
    "    print(\"\\nIt is a palidrome\")\n",
    "else:\n",
    "    print(\"\\nIt is not a palindrome\")"
   ]
  },
  {
   "cell_type": "markdown",
   "id": "9d27f4e2",
   "metadata": {},
   "source": [
    "#### 11. Write a program to find the factors of a number"
   ]
  },
  {
   "cell_type": "code",
   "execution_count": 24,
   "id": "fcdad0c7",
   "metadata": {},
   "outputs": [
    {
     "name": "stdout",
     "output_type": "stream",
     "text": [
      "Enter a number24\n",
      "1\n",
      "2\n",
      "3\n",
      "4\n",
      "6\n",
      "8\n",
      "12\n"
     ]
    }
   ],
   "source": [
    "n = int(input(\"Enter a number\"))\n",
    "for num in range(1, n):\n",
    "    if n % num == 0:\n",
    "        print(num)"
   ]
  },
  {
   "cell_type": "markdown",
   "id": "e5b61e31",
   "metadata": {},
   "source": [
    "#### 12. Write a program to check whether a given number is prime or not"
   ]
  },
  {
   "cell_type": "code",
   "execution_count": 26,
   "id": "7ce2a860",
   "metadata": {},
   "outputs": [
    {
     "name": "stdout",
     "output_type": "stream",
     "text": [
      "Enter a number: 5\n",
      "It is a prime number\n"
     ]
    }
   ],
   "source": [
    "number = int(input(\"Enter a number: \"))\n",
    "\n",
    "is_prime = True\n",
    "\n",
    "for num in range(2, number):\n",
    "    if number % num == 0:\n",
    "        is_prime = False\n",
    "if is_prime:\n",
    "    print(\"It is a prime number\")\n",
    "else:\n",
    "    print(\"It is not a prime number\")\n",
    "    "
   ]
  },
  {
   "cell_type": "markdown",
   "id": "520a3627",
   "metadata": {},
   "source": [
    "#### 13. Write a program to print prime number between 1 - 100`"
   ]
  },
  {
   "cell_type": "code",
   "execution_count": 59,
   "id": "4210e052",
   "metadata": {},
   "outputs": [
    {
     "name": "stdout",
     "output_type": "stream",
     "text": [
      "2\n",
      "3\n",
      "5\n",
      "7\n",
      "11\n",
      "13\n",
      "17\n",
      "19\n",
      "23\n",
      "29\n",
      "31\n",
      "37\n",
      "41\n",
      "43\n",
      "47\n",
      "53\n",
      "59\n",
      "61\n",
      "67\n",
      "71\n",
      "73\n",
      "79\n",
      "83\n",
      "89\n",
      "97\n"
     ]
    }
   ],
   "source": [
    "for num in range(2,101):\n",
    "    for i in range(2, 101):\n",
    "        if num % i == 0:\n",
    "            break\n",
    "            \n",
    "    if num == i:\n",
    "        print(num)\n",
    "\n",
    "\n",
    "            "
   ]
  },
  {
   "cell_type": "markdown",
   "id": "51a494d9",
   "metadata": {},
   "source": [
    "#### 14. Write a program to print a number in reverse order entered by the user"
   ]
  },
  {
   "cell_type": "code",
   "execution_count": 66,
   "id": "a271d075",
   "metadata": {},
   "outputs": [
    {
     "name": "stdout",
     "output_type": "stream",
     "text": [
      "Enter a number: 624101\n",
      "101426\n"
     ]
    }
   ],
   "source": [
    "number = int(input(\"Enter a number: \"))\n",
    "\n",
    "str_num = str(number)\n",
    "result = \"\"\n",
    "\n",
    "for i in range(len(str_num), 0, -1):\n",
    "    result += str_num[i - 1]\n",
    "\n",
    "int_result = int(result)\n",
    "print(int_result)"
   ]
  },
  {
   "cell_type": "markdown",
   "id": "b2a1c315",
   "metadata": {},
   "source": [
    "#### 15. write a program to print the cube of all numbers from 1 to given number"
   ]
  },
  {
   "cell_type": "code",
   "execution_count": 67,
   "id": "9d7a09e6",
   "metadata": {},
   "outputs": [
    {
     "name": "stdout",
     "output_type": "stream",
     "text": [
      "Enter a number: 5\n",
      "1\n",
      "8\n",
      "27\n",
      "64\n",
      "125\n"
     ]
    }
   ],
   "source": [
    "number = int(input(\"Enter a number: \"))\n",
    "\n",
    "for num in range(1, number + 1):\n",
    "    print(num ** 3)"
   ]
  },
  {
   "cell_type": "code",
   "execution_count": null,
   "id": "be301b06",
   "metadata": {},
   "outputs": [],
   "source": []
  }
 ],
 "metadata": {
  "kernelspec": {
   "display_name": "Python 3 (ipykernel)",
   "language": "python",
   "name": "python3"
  },
  "language_info": {
   "codemirror_mode": {
    "name": "ipython",
    "version": 3
   },
   "file_extension": ".py",
   "mimetype": "text/x-python",
   "name": "python",
   "nbconvert_exporter": "python",
   "pygments_lexer": "ipython3",
   "version": "3.9.13"
  }
 },
 "nbformat": 4,
 "nbformat_minor": 5
}
