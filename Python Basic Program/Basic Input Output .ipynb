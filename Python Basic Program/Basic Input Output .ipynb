{
 "cells": [
  {
   "cell_type": "markdown",
   "id": "ee8c70ed",
   "metadata": {},
   "source": [
    "#### 1. write a program to perform following operations:\n",
    " 1) addition, 2) subtraction, 2) Multiplication, 3) Division, 4) Modulus, 5) Exponent"
   ]
  },
  {
   "cell_type": "code",
   "execution_count": 2,
   "id": "7c10cf0a",
   "metadata": {},
   "outputs": [
    {
     "name": "stdout",
     "output_type": "stream",
     "text": [
      "enter a:8\n",
      "enter b: 2\n",
      "\n",
      "addition = 10\n",
      "subtraction = 6\n",
      "multiplication = 16\n",
      "division = 4\n",
      "Modulus = 0\n",
      "Exponent = 64\n"
     ]
    }
   ],
   "source": [
    "a = int(input(\"enter a:\"))\n",
    "b = int(input(\"enter b: \"))\n",
    "\n",
    "addition =  a + b\n",
    "subtraction = a - b\n",
    "multiplication = a * b\n",
    "division = a // b\n",
    "modulus = a % b\n",
    "Exponent = a ** b\n",
    "\n",
    "print(f\"\\naddition = {addition}\")\n",
    "print(f\"subtraction = {subtraction}\")\n",
    "print(f\"multiplication = {multiplication}\")\n",
    "print(f\"division = {division}\")\n",
    "print(f\"Modulus = {modulus}\")\n",
    "print(f\"Exponent = {Exponent}\")"
   ]
  },
  {
   "cell_type": "markdown",
   "id": "e40c825a",
   "metadata": {},
   "source": [
    "#### 2. Write a program to swap two numbers."
   ]
  },
  {
   "cell_type": "code",
   "execution_count": 3,
   "id": "63b8e162",
   "metadata": {},
   "outputs": [
    {
     "name": "stdout",
     "output_type": "stream",
     "text": [
      "enter a number for x: 4\n",
      "enter a number for y: 5\n",
      "\n",
      "the value of x is 5 \n",
      "the value of y is 4\n"
     ]
    }
   ],
   "source": [
    "x = int(input(\"enter a number for x: \"))\n",
    "y = int(input(\"enter a number for y: \"))\n",
    "\n",
    "z = x\n",
    "x = y\n",
    "y = z\n",
    "\n",
    "print(f\"\\nthe value of x is {x} \\nthe value of y is {y}\")"
   ]
  },
  {
   "cell_type": "markdown",
   "id": "68893747",
   "metadata": {},
   "source": [
    "#### 3. Write a program to swap two numbers without using a third variable"
   ]
  },
  {
   "cell_type": "code",
   "execution_count": 4,
   "id": "0ebab532",
   "metadata": {},
   "outputs": [
    {
     "name": "stdout",
     "output_type": "stream",
     "text": [
      "enter a number for x: 5\n",
      "enter a number for y: 4\n",
      "\n",
      "the value of x is 4 \n",
      "the value of y is 5\n"
     ]
    }
   ],
   "source": [
    "x = int(input(\"enter a number for x: \"))\n",
    "y = int(input(\"enter a number for y: \"))\n",
    "\n",
    "x = x+y\n",
    "y = x-y\n",
    "x = x-y\n",
    "\n",
    "print(f\"\\nthe value of x is {x} \\nthe value of y is {y}\")"
   ]
  },
  {
   "cell_type": "markdown",
   "id": "c6a24ada",
   "metadata": {},
   "source": [
    "#### 3. Write a program to compute simple interest"
   ]
  },
  {
   "cell_type": "code",
   "execution_count": 5,
   "id": "33953fc1",
   "metadata": {},
   "outputs": [
    {
     "name": "stdout",
     "output_type": "stream",
     "text": [
      "enetr the principle amount: 50000\n",
      "enetr the number of years: 2\n",
      "enetr the rate of interest: 5\n",
      "5000.0\n"
     ]
    }
   ],
   "source": [
    "P = int(input(\"enetr the principle amount: \"))\n",
    "N = int(input(\"enetr the number of years: \"))\n",
    "R = int(input(\"enetr the rate of interest: \"))\n",
    "\n",
    "simple_interest = (P * N * R) / 100\n",
    "\n",
    "print(simple_interest)"
   ]
  },
  {
   "cell_type": "code",
   "execution_count": null,
   "id": "034f26c9",
   "metadata": {},
   "outputs": [],
   "source": []
  },
  {
   "cell_type": "code",
   "execution_count": null,
   "id": "6ef869d0",
   "metadata": {},
   "outputs": [],
   "source": []
  },
  {
   "cell_type": "code",
   "execution_count": null,
   "id": "a4cf81f4",
   "metadata": {},
   "outputs": [],
   "source": []
  }
 ],
 "metadata": {
  "kernelspec": {
   "display_name": "Python 3 (ipykernel)",
   "language": "python",
   "name": "python3"
  },
  "language_info": {
   "codemirror_mode": {
    "name": "ipython",
    "version": 3
   },
   "file_extension": ".py",
   "mimetype": "text/x-python",
   "name": "python",
   "nbconvert_exporter": "python",
   "pygments_lexer": "ipython3",
   "version": "3.9.13"
  }
 },
 "nbformat": 4,
 "nbformat_minor": 5
}
