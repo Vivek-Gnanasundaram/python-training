{
 "cells": [
  {
   "cell_type": "markdown",
   "id": "f52da517",
   "metadata": {},
   "source": [
    "#### 1. Write a program to check whether a given number is even or odd."
   ]
  },
  {
   "cell_type": "code",
   "execution_count": 1,
   "id": "c6d7b15b",
   "metadata": {},
   "outputs": [
    {
     "name": "stdout",
     "output_type": "stream",
     "text": [
      "Enetr the number: 5\n",
      "odd\n"
     ]
    }
   ],
   "source": [
    "number = int(input(\"Enetr the number: \"))\n",
    "\n",
    "if number % 2 == 0:\n",
    "    print(\"even\")\n",
    "else:\n",
    "    print(\"odd\")"
   ]
  },
  {
   "cell_type": "markdown",
   "id": "4a237431",
   "metadata": {},
   "source": [
    "#### 2. Write a program to check whether an alphabet is vowel or consonant"
   ]
  },
  {
   "cell_type": "code",
   "execution_count": 2,
   "id": "d7d7b374",
   "metadata": {},
   "outputs": [
    {
     "name": "stdout",
     "output_type": "stream",
     "text": [
      "enter a single letter: a\n",
      "vowel\n"
     ]
    }
   ],
   "source": [
    "vowel = [\"a\", \"e\", \"i\", \"o\", \"u\", \"A\", \"E\", \"I\", \"O\", \"U\"]\n",
    "\n",
    "letter = input(\"enter a single letter: \")\n",
    "\n",
    "if letter in vowel:\n",
    "    print(\"vowel\")\n",
    "else:\n",
    "    print(\"consonant\")"
   ]
  },
  {
   "cell_type": "markdown",
   "id": "b74806e2",
   "metadata": {},
   "source": [
    "#### 3. Write a program to check whether a person is eligible to vote or not"
   ]
  },
  {
   "cell_type": "code",
   "execution_count": 3,
   "id": "f6e6ea39",
   "metadata": {},
   "outputs": [
    {
     "name": "stdout",
     "output_type": "stream",
     "text": [
      "enter your age: 19\n",
      "eligible to vote\n"
     ]
    }
   ],
   "source": [
    "\n",
    "age = int(input(\"enter your age: \"))\n",
    "\n",
    "if age >= 18:\n",
    "    print(\"eligible to vote\")\n",
    "else:\n",
    "    print(\"not eligible\")"
   ]
  },
  {
   "cell_type": "markdown",
   "id": "999a0b3d",
   "metadata": {},
   "source": [
    "#### 4. Write a program to check whether a given year is leap year or not"
   ]
  },
  {
   "cell_type": "code",
   "execution_count": 4,
   "id": "6ac8545e",
   "metadata": {},
   "outputs": [
    {
     "name": "stdout",
     "output_type": "stream",
     "text": [
      "enter the year 2023\n",
      "not a leap year.\n"
     ]
    }
   ],
   "source": [
    "year = int(input(\"enter the year \"))\n",
    "\n",
    "if year % 4 == 0:\n",
    "    if year % 100 == 0:\n",
    "        if year % 400 == 0:\n",
    "            print(\"leap year.\")\n",
    "        else:\n",
    "            print(\"not a leap year.\")\n",
    "    else:\n",
    "        print(\"leap year\")\n",
    "\n",
    "else:\n",
    "    print(\"not a leap year.\")"
   ]
  },
  {
   "cell_type": "markdown",
   "id": "385cd122",
   "metadata": {},
   "source": [
    "#### 5. Write a program to check a triangle is equilateral, isosceles or saclene."
   ]
  },
  {
   "cell_type": "code",
   "execution_count": 5,
   "id": "881e349f",
   "metadata": {},
   "outputs": [
    {
     "name": "stdout",
     "output_type": "stream",
     "text": [
      "Enter the side of a triangle 'a': 45\n",
      "Enter the side of a triangle 'b': 45\n",
      "Enter the side of a triangle 'c': 69\n",
      "Isosceles triangle\n"
     ]
    }
   ],
   "source": [
    "a = int(input(\"Enter the side of a triangle 'a': \"))\n",
    "b = int(input(\"Enter the side of a triangle 'b': \"))\n",
    "c = int(input(\"Enter the side of a triangle 'c': \"))\n",
    "\n",
    "if a == b and b == c:\n",
    "    print(\"Equilateral triangle\")\n",
    "elif a == b or b == c or c == a:\n",
    "    print(\"Isosceles triangle\")\n",
    "else:\n",
    "    print(\"Scalene triangle\")"
   ]
  },
  {
   "cell_type": "markdown",
   "id": "8f3cb686",
   "metadata": {},
   "source": [
    "#### 7. Write a program to check whether after selling a product is profit or loss."
   ]
  },
  {
   "cell_type": "code",
   "execution_count": 6,
   "id": "108334ab",
   "metadata": {},
   "outputs": [
    {
     "name": "stdout",
     "output_type": "stream",
     "text": [
      "enter the cost price of the product: 450\n",
      "enter the selling price of the product: 489\n",
      "your profit amount is $39\n"
     ]
    }
   ],
   "source": [
    "cp = int(input(\"enter the cost price of the product: \"))\n",
    "sp = int(input(\"enter the selling price of the product: \"))\n",
    "\n",
    "diff = sp-cp\n",
    "\n",
    "if diff > 0:\n",
    "    print(f\"your profit amount is ${diff}\")\n",
    "else:\n",
    "    print(f\"your loss amount is ${diff}\")"
   ]
  },
  {
   "cell_type": "markdown",
   "id": "e11b75e0",
   "metadata": {},
   "source": [
    "#### 8. Write a program to enter two numbers and print the greatest number."
   ]
  },
  {
   "cell_type": "code",
   "execution_count": 3,
   "id": "cf7389fb",
   "metadata": {},
   "outputs": [
    {
     "name": "stdout",
     "output_type": "stream",
     "text": [
      "enter the number: 56\n",
      "enter the number: 45\n",
      "The greatest number is 56\n"
     ]
    }
   ],
   "source": [
    "num1 = int(input(\"enter the number: \"))\n",
    "num2 = int(input(\"enter the number: \"))\n",
    "\n",
    "numbers = [num1,num2]\n",
    "\n",
    "Greatest_number = max(numbers)\n",
    "print(f\"The greatest number is {Greatest_number}\")"
   ]
  },
  {
   "cell_type": "markdown",
   "id": "93ead609",
   "metadata": {},
   "source": [
    "#### 9. Write a program to enter two numbers and print the smaller number"
   ]
  },
  {
   "cell_type": "code",
   "execution_count": 4,
   "id": "037e2ca6",
   "metadata": {},
   "outputs": [
    {
     "name": "stdout",
     "output_type": "stream",
     "text": [
      "enter the number: 56\n",
      "enter the number: 45\n",
      "The smallest number is 45\n"
     ]
    }
   ],
   "source": [
    "num1 = int(input(\"enter the number: \"))\n",
    "num2 = int(input(\"enter the number: \"))\n",
    "\n",
    "numbers = [num1,num2]\n",
    "\n",
    "Smallest_number = min(numbers)\n",
    "print(f\"The smallest number is {Smallest_number}\")"
   ]
  },
  {
   "cell_type": "markdown",
   "id": "98f3e4f9",
   "metadata": {},
   "source": [
    "#### 10. Write a program to enter three numbers and print the greatest number."
   ]
  },
  {
   "cell_type": "code",
   "execution_count": 6,
   "id": "11696fed",
   "metadata": {},
   "outputs": [
    {
     "name": "stdout",
     "output_type": "stream",
     "text": [
      "enter the number: 56\n",
      "enter the number: 45\n",
      "enter the number: 63\n",
      "The greatest number is 63\n"
     ]
    }
   ],
   "source": [
    "num1 = int(input(\"enter the number: \"))\n",
    "num2 = int(input(\"enter the number: \"))\n",
    "num3 = int(input(\"enter the number: \"))\n",
    "\n",
    "numbers = [num1,num2,num3]\n",
    "\n",
    "Greatest_number = max(numbers)\n",
    "print(f\"The greatest number is {Greatest_number}\")"
   ]
  },
  {
   "cell_type": "markdown",
   "id": "803015cc",
   "metadata": {},
   "source": [
    "#### 11. Write a program to enter three numbers and print the smallest number."
   ]
  },
  {
   "cell_type": "code",
   "execution_count": 8,
   "id": "77d1be26",
   "metadata": {},
   "outputs": [
    {
     "name": "stdout",
     "output_type": "stream",
     "text": [
      "enter the number: 45\n",
      "enter the number: 23\n",
      "enter the number: 46\n",
      "The smallest number is 23\n"
     ]
    }
   ],
   "source": [
    "num1 = int(input(\"enter the number: \"))\n",
    "num2 = int(input(\"enter the number: \"))\n",
    "num3 = int(input(\"enter the number: \"))\n",
    "\n",
    "numbers = [num1,num2,num3]\n",
    "\n",
    "Smallest_number = min(numbers)\n",
    "print(f\"The smallest number is {Smallest_number}\")"
   ]
  },
  {
   "cell_type": "markdown",
   "id": "dd5e07a7",
   "metadata": {},
   "source": [
    "#### 12. Write a program to enter a number between (1 - 7) and print the respective day of the week"
   ]
  },
  {
   "cell_type": "code",
   "execution_count": 9,
   "id": "8c9acf9b",
   "metadata": {},
   "outputs": [
    {
     "name": "stdout",
     "output_type": "stream",
     "text": [
      "Enter a number between 1 to 7:  5\n",
      "Friday\n"
     ]
    }
   ],
   "source": [
    "days = [\"Monday\", \"Tuesday\", \"Wednesday\", \"Thursday\", \"Friday\", \"Saturday\", \"Sunday\"]\n",
    "\n",
    "num = int(input(\"Enter a number between 1 to 7:  \")) - 1\n",
    "\n",
    "print(days[num])"
   ]
  },
  {
   "cell_type": "markdown",
   "id": "8206b2aa",
   "metadata": {},
   "source": [
    "#### 13. Write a program to enter a number between (1 - 12) and print the respective month"
   ]
  },
  {
   "cell_type": "code",
   "execution_count": 10,
   "id": "d3b8c749",
   "metadata": {},
   "outputs": [
    {
     "name": "stdout",
     "output_type": "stream",
     "text": [
      "Which month do you want to print: 10\n",
      "October\n"
     ]
    }
   ],
   "source": [
    "month = [\"January\", \"February\", \"March\", \"April\", \"May\", \"June\", \"July\", \"August\", \"September\", \"October\", \"November\", \"December\"]\n",
    "\n",
    "select_month = int(input(\"Which month do you want to print: \"))\n",
    "\n",
    "num = select_month - 1\n",
    "print(month[num])"
   ]
  },
  {
   "cell_type": "markdown",
   "id": "db7f1b00",
   "metadata": {},
   "source": [
    "#### 14. Write a program to enter a number between (1 - 4) and perform the following operations.\n",
    "\n",
    "1. Addition\n",
    "2. Subtraction\n",
    "3. Multiplication\n",
    "4. Division"
   ]
  },
  {
   "cell_type": "code",
   "execution_count": 3,
   "id": "e7861cb2",
   "metadata": {},
   "outputs": [
    {
     "name": "stdout",
     "output_type": "stream",
     "text": [
      "Enter \n",
      " 1 for addition\n",
      " 2 for subtraction\n",
      " 3 for mulitiplication\n",
      " 4 for division\n",
      "\n",
      "enter a number between 1 to 4:  4\n",
      "enter a:45\n",
      "enter b: 3\n",
      "45 / 3 = 15\n"
     ]
    }
   ],
   "source": [
    "def addition():\n",
    "    a = int(input(\"enter a:\"))\n",
    "    b = int(input(\"enter b: \"))\n",
    "    addition =  a + b\n",
    "    print(f\" {a} + {b} = {addition}\")\n",
    "\n",
    "def subtraction():\n",
    "    a = int(input(\"enter a:\"))\n",
    "    b = int(input(\"enter b: \"))\n",
    "    subtraction = a - b\n",
    "    print(f\"{a} - {b} = {subtraction}\")\n",
    "\n",
    "def multiplication():\n",
    "    a = int(input(\"enter a:\"))\n",
    "    b = int(input(\"enter b: \"))\n",
    "    multiplication = a * b\n",
    "    print(f\"{a} * {b} = {multiplication}\")\n",
    "    \n",
    "def division():\n",
    "    a = int(input(\"enter a:\"))\n",
    "    b = int(input(\"enter b: \"))\n",
    "    division = a // b\n",
    "    print(f\"{a} / {b} = {division}\")\n",
    "\n",
    "print(\"Enter \\n 1 for addition\\n 2 for subtraction\\n 3 for mulitiplication\\n 4 for division\\n\")\n",
    "function = int(input(\"enter a number between 1 to 4:  \"))\n",
    "\n",
    "if function == 1:\n",
    "    addition()\n",
    "if function == 2:\n",
    "    subtraction()\n",
    "if function == 3:\n",
    "    multiplication()\n",
    "if function == 4:\n",
    "    division()\n",
    "    "
   ]
  },
  {
   "cell_type": "markdown",
   "id": "0f338906",
   "metadata": {},
   "source": [
    "#### 15. A company decided to give bonus of 5% to employee if his/her year of service is more than 5 years. Ask user for their salary and year of service and print the net bonus amount"
   ]
  },
  {
   "cell_type": "code",
   "execution_count": 4,
   "id": "44d6fa2c",
   "metadata": {},
   "outputs": [
    {
     "name": "stdout",
     "output_type": "stream",
     "text": [
      "Enter your salary: 50000\n",
      "Enter Your year of service: 6\n",
      "you have got a bonus of Rs.2500\n"
     ]
    }
   ],
   "source": [
    "salary = int(input(\"Enter your salary: \"))\n",
    "year_of_service = int(input(\"Enter Your year of service: \"))\n",
    "\n",
    "bonus = round(salary * (5 / 100))\n",
    "\n",
    "if year_of_service > 5:\n",
    "    print(f\"you have got a bonus of Rs.{bonus}\")\n",
    "else:\n",
    "    print(\"Sorry, no bonus is available for you\")"
   ]
  },
  {
   "cell_type": "markdown",
   "id": "dbf46d6e",
   "metadata": {},
   "source": [
    "#### 16. Write a program to take input of length and breadth of a rectange from user and check if it is square or not"
   ]
  },
  {
   "cell_type": "code",
   "execution_count": 6,
   "id": "04682a5d",
   "metadata": {},
   "outputs": [
    {
     "name": "stdout",
     "output_type": "stream",
     "text": [
      "Enter the length of the rectangle: 4\n",
      "Enter the breadth of the triangle: 5\n",
      "It is a rectangle\n"
     ]
    }
   ],
   "source": [
    "length = int(input(\"Enter the length of the rectangle: \"))\n",
    "breadth = int(input(\"Enter the breadth of the triangle: \"))\n",
    "\n",
    "if length == breadth:\n",
    "    print(\"It is a square\")\n",
    "else:\n",
    "    print(\"It is a rectangle\")"
   ]
  },
  {
   "cell_type": "markdown",
   "id": "7d78e6da",
   "metadata": {},
   "source": [
    "#### 17. Take input of age of 3 people by user and fetermine oldest and youngest among them"
   ]
  },
  {
   "cell_type": "code",
   "execution_count": 7,
   "id": "4b00a985",
   "metadata": {},
   "outputs": [
    {
     "name": "stdout",
     "output_type": "stream",
     "text": [
      "enter the age of Person 1: 12\n",
      "enter the age of Person 2: 23\n",
      "enter the age of Person 3: 16\n",
      "person2 is the oldest\n",
      "person1 is the youngest\n"
     ]
    }
   ],
   "source": [
    "person1 = int(input(\"enter the age of Person 1: \"))\n",
    "person2 = int(input(\"enter the age of Person 2: \"))\n",
    "person3 = int(input(\"enter the age of Person 3: \"))\n",
    "\n",
    "if person1 > (person2 and person3):\n",
    "    print(\"person1 is the oldest\")\n",
    "\n",
    "elif person2 > (person2 and person3):\n",
    "    print(\"person2 is the oldest\")\n",
    "    \n",
    "elif person3 > (person1 and person2):\n",
    "    print(\"person3 is the oldest\")\n",
    "\n",
    "if person3 < (person2 and person3):\n",
    "    print(\"person3 is the youngest\")\n",
    "\n",
    "elif person2 < (person1 and person3):\n",
    "    print(\"person2 is the youngest\")\n",
    "    \n",
    "elif person1 < person2 and person3:\n",
    "    print(\"person1 is the youngest\")"
   ]
  },
  {
   "cell_type": "markdown",
   "id": "ef03b6bc",
   "metadata": {},
   "source": [
    "#### 18. A school has following rules for grading system:\n",
    "##### a. Below 25 - F\n",
    "##### b. 25 - 45 - E\n",
    "##### c. 45 - 50 - D\n",
    "##### d. 50 - 60 - C\n",
    "##### e. 60 - 80 - B\n",
    "##### f. Above 80 - A"
   ]
  },
  {
   "cell_type": "code",
   "execution_count": 8,
   "id": "60c4cfcc",
   "metadata": {
    "scrolled": true
   },
   "outputs": [
    {
     "name": "stdout",
     "output_type": "stream",
     "text": [
      "Enter your mark: 65\n",
      " B grade\n"
     ]
    }
   ],
   "source": [
    "mark = int(input(\"Enter your mark: \"))\n",
    "\n",
    "if mark >= 80 and mark <= 100:\n",
    "    print(\"You have an 'A' Grade\")\n",
    "elif mark >= 60 and mark < 80:\n",
    "    print(\" B grade\")\n",
    "elif mark >= 50 and mark < 60:\n",
    "    print(\" c grade\")\n",
    "elif mark >= 45 and mark < 50:\n",
    "    print(\" D grade\")\n",
    "elif mark >= 25 and mark < 45:\n",
    "    print(\"E grade\")\n",
    "elif mark < 25 and mark >= 0:\n",
    "    print(\"Fail\")\n",
    "else:\n",
    "    print(\"enter a proper mark\")"
   ]
  }
 ],
 "metadata": {
  "kernelspec": {
   "display_name": "Python 3 (ipykernel)",
   "language": "python",
   "name": "python3"
  },
  "language_info": {
   "codemirror_mode": {
    "name": "ipython",
    "version": 3
   },
   "file_extension": ".py",
   "mimetype": "text/x-python",
   "name": "python",
   "nbconvert_exporter": "python",
   "pygments_lexer": "ipython3",
   "version": "3.9.13"
  }
 },
 "nbformat": 4,
 "nbformat_minor": 5
}
